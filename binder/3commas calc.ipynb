{
 "cells": [
  {
   "cell_type": "code",
   "execution_count": 1,
   "id": "periodic-jordan",
   "metadata": {},
   "outputs": [
    {
     "name": "stdout",
     "output_type": "stream",
     "text": [
      "Day 0 :  540\n",
      "Day  1 :  565.056\n",
      "Day  2 :  591.2745984000001\n",
      "Day  3 :  618.7097397657601\n",
      "Day  4 :  647.4178716908914\n",
      "Day  5 :  677.4580609373487\n",
      "Day  6 :  708.8921149648417\n",
      "Day  7 :  741.7847090992103\n",
      "Day  8 :  776.2035196014136\n",
      "Day  9 :  812.2193629109192\n",
      "Day  10 :  849.906341349986\n",
      "Day  11 :  889.3419955886253\n",
      "Day  12 :  930.6074641839375\n",
      "Day  13 :  973.7876505220722\n",
      "Day  14 :  1018.9713975062964\n",
      "Day  15 :  1066.2516703505885\n",
      "Day  16 :  1115.7257478548559\n",
      "Day  17 :  1167.495422555321\n",
      "Day  18 :  1221.6672101618879\n",
      "Day  19 :  1278.3525687133995\n",
      "Day  20 :  1337.6681279017012\n",
      "Day  21 :  1399.7359290363402\n",
      "Day  22 :  1464.6836761436264\n",
      "Day  23 :  1532.6449987166907\n",
      "Day  24 :  1603.7597266571452\n",
      "Day  25 :  1678.1741779740366\n",
      "Day  26 :  1756.041459832032\n",
      "Day  27 :  1837.521783568238\n",
      "Day  28 :  1922.7827943258044\n",
      "Day  29 :  2011.9999159825218\n",
      "Day  30 :  2105.3567120841108\n",
      "Percentage Change:  289.88087260816866\n"
     ]
    }
   ],
   "source": [
    "prev = 540\n",
    "curr = 0\n",
    "\n",
    "print(\"Day 0 : \", prev)\n",
    "\n",
    "for x in range(30):\n",
    " curr = prev * (1 + 0.0464)\n",
    " print(\"Day \", x + 1, \": \", curr)\n",
    " prev = curr\n",
    " \n",
    "\n",
    "percChange = ((prev - 540)/540)*100\n",
    "print(\"Percentage Change: \", percChange)"
   ]
  },
  {
   "cell_type": "code",
   "execution_count": null,
   "id": "verified-cotton",
   "metadata": {},
   "outputs": [],
   "source": []
  }
 ],
 "metadata": {
  "kernelspec": {
   "display_name": "Python 3",
   "language": "python",
   "name": "python3"
  },
  "language_info": {
   "codemirror_mode": {
    "name": "ipython",
    "version": 3
   },
   "file_extension": ".py",
   "mimetype": "text/x-python",
   "name": "python",
   "nbconvert_exporter": "python",
   "pygments_lexer": "ipython3",
   "version": "3.6.13"
  }
 },
 "nbformat": 4,
 "nbformat_minor": 5
}
